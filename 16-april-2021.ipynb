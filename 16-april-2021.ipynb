{
 "cells": [
  {
   "cell_type": "markdown",
   "metadata": {},
   "source": [
    " #   LOOPS IN PYTH    #\n",
    "##         1.for loop             ##\n",
    "for i in range()"
   ]
  },
  {
   "cell_type": "code",
   "execution_count": null,
   "metadata": {},
   "outputs": [],
   "source": [
    "for i in range(3,25):\n",
    "    print(\"3\")"
   ]
  },
  {
   "cell_type": "code",
   "execution_count": null,
   "metadata": {},
   "outputs": [],
   "source": [
    "n=int(input(\"enter your initial number:\"))\n",
    "m=int(input(\"enter final number:\"))\n",
    "for i in range(n,m):\n",
    "    if(i%2==0):\n",
    "    print(i)"
   ]
  },
  {
   "cell_type": "markdown",
   "metadata": {},
   "source": [
    "#  print n natural numbers and their avg  #\n",
    "\n",
    "\n"
   ]
  },
  {
   "cell_type": "code",
   "execution_count": null,
   "metadata": {},
   "outputs": [],
   "source": [
    "n=int(input(\"enter a number:\"))\n",
    "sum1=0\n",
    "for i in range(1,n+1):\n",
    "    print(i,end='  ')\n",
    "    sum1 += i\n",
    "print(\"\\n\",sum1)\n",
    "print(sum1/n)"
   ]
  },
  {
   "cell_type": "code",
   "execution_count": null,
   "metadata": {},
   "outputs": [],
   "source": [
    "n=int(input(\"enter n number\"))\n",
    "m=int(input(\"enter m number\"))\n",
    "sum1=0\n",
    "count=0\n",
    "for i in range(n,m+1):\n",
    "    count=count+1\n",
    "    sum1=sum1+i\n",
    "    print(\"sum is:\",sum1)\n",
    "    print(\"avg is:\", sum1/count)"
   ]
  },
  {
   "cell_type": "code",
   "execution_count": null,
   "metadata": {},
   "outputs": [],
   "source": [
    "n=input(\"enter n number\")\n",
    "m=input(\"enter m number\")\n",
    "sum1=0\n",
    "count=0\n",
    "for i in range(int(n),int(m)):\n",
    "    count=count+1\n",
    "    sum1=sum1+int(i)\n",
    "    print(\"sum is:\",sum1)\n",
    "    print(\"avg is:\", sum1/count)"
   ]
  },
  {
   "cell_type": "code",
   "execution_count": null,
   "metadata": {},
   "outputs": [],
   "source": [
    "n=int(input(\"enter a numberr:\"))\n",
    "fact=1\n",
    "for i in range(1,n+1):\n",
    "    fact=fact*i\n",
    "print('fact is:',fact)"
   ]
  },
  {
   "cell_type": "code",
   "execution_count": null,
   "metadata": {},
   "outputs": [],
   "source": [
    "n=int(input(\"enter a value:\"))\n",
    "factor_count=0\n",
    "for i in range(1,1+n):\n",
    "      if(n%i==0):\n",
    "        factor_count+=1\n",
    "if factor_count==2:\n",
    "    print(\"prime is:\",n)\n",
    "else:\n",
    "        print(\"not prime:\",n)"
   ]
  },
  {
   "cell_type": "code",
   "execution_count": null,
   "metadata": {},
   "outputs": [],
   "source": [
    "n=int(input( ))\n",
    "sum1=0\n",
    "for i in range(1,n):\n",
    "    if n%i==0:\n",
    "        sum1+=i\n",
    "if sum1==n:\n",
    "    print(n,\"it is perfect number\")\n",
    "else:\n",
    "        print(n,\"not a perfect number\")"
   ]
  },
  {
   "cell_type": "code",
   "execution_count": null,
   "metadata": {},
   "outputs": [],
   "source": [
    "n=int(input(\"enter a number:\"))\n",
    "if n%2==0:\n",
    "    print(\"even\")\n",
    "    fact=1\n",
    "for i in range(1,n+1):\n",
    "    fact=fact*i\n",
    "    print(\"fact is:\",fact)\n",
    "else:\n",
    "    print(\"odd\")"
   ]
  },
  {
   "cell_type": "code",
   "execution_count": null,
   "metadata": {},
   "outputs": [],
   "source": [
    "n=int(input(\"enter a number:\"))\n",
    "for i in range (1,10,n+1):\n",
    "    print(\"the multiplication is\")\n",
    "    \n",
    "    "
   ]
  },
  {
   "cell_type": "code",
   "execution_count": null,
   "metadata": {},
   "outputs": [],
   "source": [
    "n=int(input())\n",
    "for i in range(1,n+1):\n",
    "    if i==5:\n",
    "        continue\n",
    "    print(i,end=' ')"
   ]
  },
  {
   "cell_type": "code",
   "execution_count": null,
   "metadata": {},
   "outputs": [],
   "source": [
    "name=input()\n",
    "for i in name:\n",
    "    print(i,end=\" \")"
   ]
  },
  {
   "cell_type": "code",
   "execution_count": null,
   "metadata": {},
   "outputs": [],
   "source": [
    "name=input()\n",
    "for i in name:\n",
    "    if ord(i)%2==0:\n",
    "        print(ord(i))\n",
    "    "
   ]
  },
  {
   "cell_type": "code",
   "execution_count": null,
   "metadata": {},
   "outputs": [],
   "source": [
    "name=input()\n",
    "for i in name:\n",
    "    if ord(i)%2==0:\n",
    "        print(i,end=' ')\n",
    "    else:\n",
    "        res=int((ord(i)+ord(i))/40)\n",
    "        res1=int(res)\n",
    "        print(chr(res),end=' ')\n",
    "    \n",
    "    "
   ]
  },
  {
   "cell_type": "code",
   "execution_count": null,
   "metadata": {
    "scrolled": false
   },
   "outputs": [],
   "source": [
    "name=input()\n",
    "for i in name:\n",
    "    if ord(i)%2==0:\n",
    "        print(ord(i))\n"
   ]
  },
  {
   "cell_type": "markdown",
   "metadata": {},
   "source": [
    "# while loop # "
   ]
  },
  {
   "cell_type": "code",
   "execution_count": null,
   "metadata": {},
   "outputs": [],
   "source": [
    "i=10\n",
    "while i==10:\n",
    "    if i%2==0:\n",
    "        print(i,end=' ')\n",
    "    i=i+1"
   ]
  },
  {
   "cell_type": "markdown",
   "metadata": {},
   "source": [
    "#   Functions  #\n",
    "# set of statements is called as function.\n",
    "#### 1.function declaration\n",
    "#### 2.function body\n",
    "#### 3.function calling\n",
    "## Mainly 2 types\n",
    "\n",
    "# 1.user defined functions\n",
    "### 1.add\n",
    "### 2.sum\n",
    "### 3.mul\n",
    "### 4.ord\n",
    "### 5.chr\n",
    "### 6.abs\n",
    "\n",
    "# 2.built_in functions\n",
    "###  These are defined by user\n",
    "### 1.require argument\n",
    "### 2.default arg\n",
    "### 3.keyword arg\n",
    "### 4.var len\n",
    "### syntax:def function_name(arg)\n",
    "#####                body of function\n",
    "#####                function"
   ]
  },
  {
   "cell_type": "code",
   "execution_count": null,
   "metadata": {},
   "outputs": [],
   "source": [
    "\n",
    "name=input()\n",
    "def sample():\n",
    "    print(\"welcome to vignan lara\",name)\n",
    "    sample()"
   ]
  },
  {
   "cell_type": "markdown",
   "metadata": {},
   "source": [
    "# local vars\n",
    "## which are accessible only for particulr functions and are not accessible through out that function are called as local vars\n"
   ]
  },
  {
   "cell_type": "code",
   "execution_count": null,
   "metadata": {},
   "outputs": [],
   "source": [
    "\n",
    "n=int(input())\n",
    "m=int(input())\n",
    "def local():\n",
    "        print(\"mul of\",n,\"and\",m,\"is\",n*m)\n",
    "local()\n",
    "print(n,m)"
   ]
  },
  {
   "cell_type": "code",
   "execution_count": null,
   "metadata": {},
   "outputs": [],
   "source": [
    "n=int(input())\n",
    "def task(n)\n",
    "    f=0\n",
    "    fact=1\n",
    "    if (n%2==0):\n",
    "        for i in range(1n):\n",
    "            if((n%i==0):\n",
    "    if (f==n):\n",
    "               print(n,\"it is perfect number\")\n",
    "else:\n",
    "        print(n,\"not a perfect number\")\n",
    "\n"
   ]
  },
  {
   "cell_type": "code",
   "execution_count": null,
   "metadata": {},
   "outputs": [],
   "source": [
    "name=input()\n",
    "org=input()\n",
    "def Required(name,org):\n",
    "    print(\"name is:\",name)\n",
    "    print(\"organization is:\",org)\n",
    "Required(name,org)"
   ]
  },
  {
   "cell_type": "markdown",
   "metadata": {},
   "source": [
    "#            default argument\n"
   ]
  },
  {
   "cell_type": "code",
   "execution_count": 9,
   "metadata": {},
   "outputs": [
    {
     "name": "stdout",
     "output_type": "stream",
     "text": [
      "addition is: 11\n",
      "multiplication is: 21\n"
     ]
    }
   ],
   "source": [
    "def Default(a,b,c=1):\n",
    "    print(\"addition is:\",a+b+c)\n",
    "    print(\"multiplication is:\" ,a*b)\n",
    "Default(3,7) "
   ]
  },
  {
   "cell_type": "markdown",
   "metadata": {},
   "source": [
    "#  keyword"
   ]
  },
  {
   "cell_type": "code",
   "execution_count": 6,
   "metadata": {},
   "outputs": [
    {
     "name": "stdout",
     "output_type": "stream",
     "text": [
      "name is: memee\n"
     ]
    },
    {
     "ename": "NameError",
     "evalue": "name 'uname' is not defined",
     "output_type": "error",
     "traceback": [
      "\u001b[1;31m---------------------------------------------------------------------------\u001b[0m",
      "\u001b[1;31mNameError\u001b[0m                                 Traceback (most recent call last)",
      "\u001b[1;32m<ipython-input-6-f383f62c84bd>\u001b[0m in \u001b[0;36m<module>\u001b[1;34m\u001b[0m\n\u001b[0;32m      2\u001b[0m     \u001b[0mprint\u001b[0m\u001b[1;33m(\u001b[0m\u001b[1;34m\"name is:\"\u001b[0m\u001b[1;33m,\u001b[0m\u001b[0mfname\u001b[0m\u001b[1;33m+\u001b[0m\u001b[0mlname\u001b[0m\u001b[1;33m)\u001b[0m\u001b[1;33m\u001b[0m\u001b[1;33m\u001b[0m\u001b[0m\n\u001b[0;32m      3\u001b[0m     \u001b[0mprint\u001b[0m\u001b[1;33m(\u001b[0m\u001b[1;34m\"username is:\"\u001b[0m\u001b[1;33m,\u001b[0m\u001b[0muname\u001b[0m\u001b[1;33m)\u001b[0m\u001b[1;33m\u001b[0m\u001b[1;33m\u001b[0m\u001b[0m\n\u001b[1;32m----> 4\u001b[1;33m \u001b[0mkeyword\u001b[0m\u001b[1;33m(\u001b[0m\u001b[1;34m'me'\u001b[0m\u001b[1;33m,\u001b[0m\u001b[1;34m'mee'\u001b[0m\u001b[1;33m,\u001b[0m\u001b[1;34m'wer34'\u001b[0m\u001b[1;33m)\u001b[0m\u001b[1;33m\u001b[0m\u001b[1;33m\u001b[0m\u001b[0m\n\u001b[0m",
      "\u001b[1;32m<ipython-input-6-f383f62c84bd>\u001b[0m in \u001b[0;36mkeyword\u001b[1;34m(fname, lname, username)\u001b[0m\n\u001b[0;32m      1\u001b[0m \u001b[1;32mdef\u001b[0m \u001b[0mkeyword\u001b[0m\u001b[1;33m(\u001b[0m\u001b[0mfname\u001b[0m\u001b[1;33m,\u001b[0m\u001b[0mlname\u001b[0m\u001b[1;33m,\u001b[0m\u001b[0musername\u001b[0m\u001b[1;33m)\u001b[0m\u001b[1;33m:\u001b[0m\u001b[1;33m\u001b[0m\u001b[1;33m\u001b[0m\u001b[0m\n\u001b[0;32m      2\u001b[0m     \u001b[0mprint\u001b[0m\u001b[1;33m(\u001b[0m\u001b[1;34m\"name is:\"\u001b[0m\u001b[1;33m,\u001b[0m\u001b[0mfname\u001b[0m\u001b[1;33m+\u001b[0m\u001b[0mlname\u001b[0m\u001b[1;33m)\u001b[0m\u001b[1;33m\u001b[0m\u001b[1;33m\u001b[0m\u001b[0m\n\u001b[1;32m----> 3\u001b[1;33m     \u001b[0mprint\u001b[0m\u001b[1;33m(\u001b[0m\u001b[1;34m\"username is:\"\u001b[0m\u001b[1;33m,\u001b[0m\u001b[0muname\u001b[0m\u001b[1;33m)\u001b[0m\u001b[1;33m\u001b[0m\u001b[1;33m\u001b[0m\u001b[0m\n\u001b[0m\u001b[0;32m      4\u001b[0m \u001b[0mkeyword\u001b[0m\u001b[1;33m(\u001b[0m\u001b[1;34m'me'\u001b[0m\u001b[1;33m,\u001b[0m\u001b[1;34m'mee'\u001b[0m\u001b[1;33m,\u001b[0m\u001b[1;34m'wer34'\u001b[0m\u001b[1;33m)\u001b[0m\u001b[1;33m\u001b[0m\u001b[1;33m\u001b[0m\u001b[0m\n",
      "\u001b[1;31mNameError\u001b[0m: name 'uname' is not defined"
     ]
    }
   ],
   "source": [
    "def keyword(fname,lname,username):\n",
    "    print(\"name is:\",fname+lname)\n",
    "    print(\"username is:\",uname)\n",
    "keyword('me','mee','wer34')"
   ]
  },
  {
   "cell_type": "code",
   "execution_count": null,
   "metadata": {},
   "outputs": [],
   "source": []
  }
 ],
 "metadata": {
  "kernelspec": {
   "display_name": "Python 3",
   "language": "python",
   "name": "python3"
  },
  "language_info": {
   "codemirror_mode": {
    "name": "ipython",
    "version": 3
   },
   "file_extension": ".py",
   "mimetype": "text/x-python",
   "name": "python",
   "nbconvert_exporter": "python",
   "pygments_lexer": "ipython3",
   "version": "3.8.5"
  }
 },
 "nbformat": 4,
 "nbformat_minor": 4
}
