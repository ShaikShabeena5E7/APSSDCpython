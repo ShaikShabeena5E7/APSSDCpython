{
 "cells": [
  {
   "cell_type": "code",
   "execution_count": 9,
   "metadata": {},
   "outputs": [
    {
     "data": {
      "text/plain": [
       "6"
      ]
     },
     "execution_count": 9,
     "metadata": {},
     "output_type": "execute_result"
    }
   ],
   "source": [
    "import math\n",
    "math.factorial(3)\n"
   ]
  },
  {
   "cell_type": "code",
   "execution_count": 10,
   "metadata": {},
   "outputs": [
    {
     "name": "stdout",
     "output_type": "stream",
     "text": [
      "['__doc__', '__loader__', '__name__', '__package__', '__spec__', 'acos', 'acosh', 'asin', 'asinh', 'atan', 'atan2', 'atanh', 'ceil', 'comb', 'copysign', 'cos', 'cosh', 'degrees', 'dist', 'e', 'erf', 'erfc', 'exp', 'expm1', 'fabs', 'factorial', 'floor', 'fmod', 'frexp', 'fsum', 'gamma', 'gcd', 'hypot', 'inf', 'isclose', 'isfinite', 'isinf', 'isnan', 'isqrt', 'ldexp', 'lgamma', 'log', 'log10', 'log1p', 'log2', 'modf', 'nan', 'perm', 'pi', 'pow', 'prod', 'radians', 'remainder', 'sin', 'sinh', 'sqrt', 'tan', 'tanh', 'tau', 'trunc']\n"
     ]
    }
   ],
   "source": [
    "import math\n",
    "print(dir(math))"
   ]
  },
  {
   "cell_type": "code",
   "execution_count": null,
   "metadata": {},
   "outputs": [],
   "source": [
    "import math\n",
    "math.cosh(0)"
   ]
  },
  {
   "cell_type": "code",
   "execution_count": null,
   "metadata": {},
   "outputs": [],
   "source": [
    "import math\n",
    "math.modf(5)"
   ]
  },
  {
   "cell_type": "code",
   "execution_count": 7,
   "metadata": {},
   "outputs": [
    {
     "ename": "TypeError",
     "evalue": "'float' object is not callable",
     "output_type": "error",
     "traceback": [
      "\u001b[1;31m---------------------------------------------------------------------------\u001b[0m",
      "\u001b[1;31mTypeError\u001b[0m                                 Traceback (most recent call last)",
      "\u001b[1;32m<ipython-input-7-868af0d41f39>\u001b[0m in \u001b[0;36m<module>\u001b[1;34m\u001b[0m\n\u001b[0;32m      1\u001b[0m \u001b[1;32mimport\u001b[0m \u001b[0mmath\u001b[0m\u001b[1;33m\u001b[0m\u001b[1;33m\u001b[0m\u001b[0m\n\u001b[1;32m----> 2\u001b[1;33m \u001b[0mmath\u001b[0m\u001b[1;33m.\u001b[0m\u001b[0mnan\u001b[0m\u001b[1;33m(\u001b[0m\u001b[1;36m2\u001b[0m\u001b[1;33m)\u001b[0m\u001b[1;33m\u001b[0m\u001b[1;33m\u001b[0m\u001b[0m\n\u001b[0m",
      "\u001b[1;31mTypeError\u001b[0m: 'float' object is not callable"
     ]
    }
   ],
   "source": [
    "import math\n",
    "math.nan(2)"
   ]
  },
  {
   "cell_type": "code",
   "execution_count": 8,
   "metadata": {},
   "outputs": [
    {
     "data": {
      "text/plain": [
       "6.0"
      ]
     },
     "execution_count": 8,
     "metadata": {},
     "output_type": "execute_result"
    }
   ],
   "source": [
    "import math\n",
    "math.gamma(4)"
   ]
  },
  {
   "cell_type": "code",
   "execution_count": 9,
   "metadata": {},
   "outputs": [
    {
     "data": {
      "text/plain": [
       "1"
      ]
     },
     "execution_count": 9,
     "metadata": {},
     "output_type": "execute_result"
    }
   ],
   "source": [
    "import math\n",
    "math.gcd(4,3)"
   ]
  },
  {
   "cell_type": "code",
   "execution_count": 10,
   "metadata": {},
   "outputs": [
    {
     "name": "stdout",
     "output_type": "stream",
     "text": [
      "['BPF', 'LOG4', 'NV_MAGICCONST', 'RECIP_BPF', 'Random', 'SG_MAGICCONST', 'SystemRandom', 'TWOPI', '_Sequence', '_Set', '__all__', '__builtins__', '__cached__', '__doc__', '__file__', '__loader__', '__name__', '__package__', '__spec__', '_accumulate', '_acos', '_bisect', '_ceil', '_cos', '_e', '_exp', '_inst', '_log', '_os', '_pi', '_random', '_repeat', '_sha512', '_sin', '_sqrt', '_test', '_test_generator', '_urandom', '_warn', 'betavariate', 'choice', 'choices', 'expovariate', 'gammavariate', 'gauss', 'getrandbits', 'getstate', 'lognormvariate', 'normalvariate', 'paretovariate', 'randint', 'random', 'randrange', 'sample', 'seed', 'setstate', 'shuffle', 'triangular', 'uniform', 'vonmisesvariate', 'weibullvariate']\n"
     ]
    }
   ],
   "source": [
    "import random\n",
    "print(dir(random))"
   ]
  },
  {
   "cell_type": "code",
   "execution_count": 11,
   "metadata": {},
   "outputs": [
    {
     "data": {
      "text/plain": [
       "(3,\n",
       " (2147483648,\n",
       "  3955555108,\n",
       "  1636088414,\n",
       "  2107800921,\n",
       "  2008974636,\n",
       "  3381174595,\n",
       "  4227019822,\n",
       "  56898297,\n",
       "  2624336310,\n",
       "  212298924,\n",
       "  1407249191,\n",
       "  3359527155,\n",
       "  3560789375,\n",
       "  3038863489,\n",
       "  659644339,\n",
       "  3711721606,\n",
       "  2639617058,\n",
       "  1114219858,\n",
       "  4259883995,\n",
       "  949879665,\n",
       "  1956336434,\n",
       "  3514285175,\n",
       "  1281177364,\n",
       "  8999978,\n",
       "  3021527553,\n",
       "  2613284459,\n",
       "  1880608884,\n",
       "  2809587024,\n",
       "  266741640,\n",
       "  2805648988,\n",
       "  4066497530,\n",
       "  360385022,\n",
       "  320381549,\n",
       "  4029348509,\n",
       "  2820258167,\n",
       "  2161933940,\n",
       "  2548159265,\n",
       "  1936232251,\n",
       "  278557772,\n",
       "  4623132,\n",
       "  2524915132,\n",
       "  2966598460,\n",
       "  2214107032,\n",
       "  1885912301,\n",
       "  3236531861,\n",
       "  4081576805,\n",
       "  1889145316,\n",
       "  3684296054,\n",
       "  1407022249,\n",
       "  2818272344,\n",
       "  2164351936,\n",
       "  1989919010,\n",
       "  3649014440,\n",
       "  3781426377,\n",
       "  2732410250,\n",
       "  2003808953,\n",
       "  2001010168,\n",
       "  1578042122,\n",
       "  696217067,\n",
       "  4239517564,\n",
       "  1676879869,\n",
       "  334220589,\n",
       "  2132301060,\n",
       "  166614036,\n",
       "  1855168920,\n",
       "  2829439580,\n",
       "  1484841985,\n",
       "  2315820716,\n",
       "  2425611987,\n",
       "  1726110731,\n",
       "  409035193,\n",
       "  2079867527,\n",
       "  85686775,\n",
       "  1186008003,\n",
       "  3776269991,\n",
       "  2416445933,\n",
       "  1471043244,\n",
       "  4116541420,\n",
       "  359792530,\n",
       "  536861878,\n",
       "  180194519,\n",
       "  2191272191,\n",
       "  2253978565,\n",
       "  2185164974,\n",
       "  1825023228,\n",
       "  722791904,\n",
       "  2111492339,\n",
       "  1489076769,\n",
       "  784099125,\n",
       "  2582268907,\n",
       "  1587541624,\n",
       "  191585750,\n",
       "  687343084,\n",
       "  815935801,\n",
       "  3717040935,\n",
       "  2607924843,\n",
       "  4087642122,\n",
       "  813392915,\n",
       "  1302488296,\n",
       "  3726800176,\n",
       "  1992610031,\n",
       "  103120506,\n",
       "  289348786,\n",
       "  856664630,\n",
       "  441077926,\n",
       "  1300141328,\n",
       "  873320077,\n",
       "  3517899142,\n",
       "  4244574150,\n",
       "  2478527600,\n",
       "  2625044954,\n",
       "  2581056927,\n",
       "  164324445,\n",
       "  2544756319,\n",
       "  1983888390,\n",
       "  3705041819,\n",
       "  3650980927,\n",
       "  1669512962,\n",
       "  3381651693,\n",
       "  3128167368,\n",
       "  1945177131,\n",
       "  947038963,\n",
       "  2910147675,\n",
       "  1876990548,\n",
       "  940233302,\n",
       "  2239216422,\n",
       "  3340659091,\n",
       "  551928360,\n",
       "  187585176,\n",
       "  1998486668,\n",
       "  3461939139,\n",
       "  2866837126,\n",
       "  3078683599,\n",
       "  901798625,\n",
       "  557606683,\n",
       "  2514086392,\n",
       "  749384288,\n",
       "  3971563823,\n",
       "  1505040182,\n",
       "  752505406,\n",
       "  917750056,\n",
       "  147118727,\n",
       "  3093412766,\n",
       "  3057312481,\n",
       "  298224496,\n",
       "  1392965659,\n",
       "  3294191089,\n",
       "  1777480982,\n",
       "  467811571,\n",
       "  22081690,\n",
       "  3295030537,\n",
       "  929866434,\n",
       "  2276346554,\n",
       "  758548076,\n",
       "  3959366598,\n",
       "  3342039427,\n",
       "  1441884706,\n",
       "  2460137549,\n",
       "  236945215,\n",
       "  2065354441,\n",
       "  1448769728,\n",
       "  1663155307,\n",
       "  1399064312,\n",
       "  1787896867,\n",
       "  1011968326,\n",
       "  564983258,\n",
       "  3937243875,\n",
       "  1363816107,\n",
       "  1784723634,\n",
       "  3189001580,\n",
       "  594029597,\n",
       "  2016517861,\n",
       "  857912212,\n",
       "  4079488856,\n",
       "  41114683,\n",
       "  437086014,\n",
       "  2714349519,\n",
       "  3074765696,\n",
       "  867582915,\n",
       "  4160824474,\n",
       "  1504839729,\n",
       "  3913142291,\n",
       "  1447587213,\n",
       "  1361200439,\n",
       "  3933657547,\n",
       "  1859492997,\n",
       "  3876526824,\n",
       "  710509300,\n",
       "  705648620,\n",
       "  4070283941,\n",
       "  1914277224,\n",
       "  4053942187,\n",
       "  2755525963,\n",
       "  2783836662,\n",
       "  1345811531,\n",
       "  3565310106,\n",
       "  1297715128,\n",
       "  2588470201,\n",
       "  2053157316,\n",
       "  2269923509,\n",
       "  1286870493,\n",
       "  892005398,\n",
       "  1955407871,\n",
       "  3830674669,\n",
       "  3373534369,\n",
       "  676998897,\n",
       "  346717167,\n",
       "  1907630773,\n",
       "  2165087594,\n",
       "  1932541215,\n",
       "  4237937412,\n",
       "  3637679973,\n",
       "  4157740879,\n",
       "  2798295305,\n",
       "  2985233943,\n",
       "  653424223,\n",
       "  2503758445,\n",
       "  3308197498,\n",
       "  1183816367,\n",
       "  3082232431,\n",
       "  2235397748,\n",
       "  598094501,\n",
       "  2823544158,\n",
       "  1537624635,\n",
       "  1957257771,\n",
       "  518752887,\n",
       "  2475875629,\n",
       "  1451459045,\n",
       "  979126118,\n",
       "  3109408173,\n",
       "  2040376503,\n",
       "  2481848407,\n",
       "  1760600711,\n",
       "  3525185354,\n",
       "  700907268,\n",
       "  3510212896,\n",
       "  1703434064,\n",
       "  2172158061,\n",
       "  1282654273,\n",
       "  3965708641,\n",
       "  4021844081,\n",
       "  3548176792,\n",
       "  2952604287,\n",
       "  3502588037,\n",
       "  1182056132,\n",
       "  3220434605,\n",
       "  99257521,\n",
       "  230592041,\n",
       "  3336836409,\n",
       "  3473331974,\n",
       "  2706256584,\n",
       "  1200801200,\n",
       "  1154991457,\n",
       "  3353831540,\n",
       "  879249077,\n",
       "  2895005578,\n",
       "  3587054656,\n",
       "  766330516,\n",
       "  3362442669,\n",
       "  236915228,\n",
       "  2530331744,\n",
       "  4284261196,\n",
       "  3590538560,\n",
       "  2496755155,\n",
       "  4250206319,\n",
       "  4250345211,\n",
       "  669816619,\n",
       "  1388421413,\n",
       "  2308607593,\n",
       "  2000120304,\n",
       "  2151985138,\n",
       "  3910615521,\n",
       "  3859704379,\n",
       "  1445262397,\n",
       "  22610051,\n",
       "  3011042765,\n",
       "  1072412367,\n",
       "  2198815677,\n",
       "  1158454809,\n",
       "  1040646188,\n",
       "  1883525289,\n",
       "  4101364861,\n",
       "  1232303093,\n",
       "  1637407003,\n",
       "  2810625769,\n",
       "  3422481558,\n",
       "  1410790927,\n",
       "  327392426,\n",
       "  1355563191,\n",
       "  836563969,\n",
       "  2839236353,\n",
       "  1540597934,\n",
       "  562045620,\n",
       "  628998653,\n",
       "  461986570,\n",
       "  2231231083,\n",
       "  2254514882,\n",
       "  923681283,\n",
       "  2338408352,\n",
       "  412862611,\n",
       "  2116391184,\n",
       "  670904285,\n",
       "  3470523761,\n",
       "  3423250477,\n",
       "  3608361993,\n",
       "  5199351,\n",
       "  559047848,\n",
       "  2661365817,\n",
       "  842953540,\n",
       "  1875662932,\n",
       "  3894052608,\n",
       "  1700310113,\n",
       "  1024658,\n",
       "  2793347465,\n",
       "  285739030,\n",
       "  3641728048,\n",
       "  2084497530,\n",
       "  3286522427,\n",
       "  2892887981,\n",
       "  2094036368,\n",
       "  954512699,\n",
       "  3200304946,\n",
       "  3269933794,\n",
       "  1253813135,\n",
       "  449340447,\n",
       "  680152384,\n",
       "  381619561,\n",
       "  1116983697,\n",
       "  3059128454,\n",
       "  1794208921,\n",
       "  3927454147,\n",
       "  2113507750,\n",
       "  581269736,\n",
       "  1324224330,\n",
       "  1168488280,\n",
       "  3487448896,\n",
       "  2649394731,\n",
       "  4018030358,\n",
       "  507984867,\n",
       "  3004594699,\n",
       "  2456781756,\n",
       "  4058507542,\n",
       "  253790764,\n",
       "  163447826,\n",
       "  213745137,\n",
       "  4294026460,\n",
       "  1063490773,\n",
       "  310097961,\n",
       "  1349797088,\n",
       "  3579309387,\n",
       "  236928137,\n",
       "  3221527752,\n",
       "  2246431575,\n",
       "  2101712675,\n",
       "  1596573642,\n",
       "  3219278781,\n",
       "  2880478121,\n",
       "  683287042,\n",
       "  2526440535,\n",
       "  2057260337,\n",
       "  3192609583,\n",
       "  3795197189,\n",
       "  2800121108,\n",
       "  2316844154,\n",
       "  1054952696,\n",
       "  1744344029,\n",
       "  1420812237,\n",
       "  3066338933,\n",
       "  2565914212,\n",
       "  3677876964,\n",
       "  638371,\n",
       "  2275995587,\n",
       "  2813928968,\n",
       "  3406428441,\n",
       "  1017342916,\n",
       "  2886542278,\n",
       "  399953742,\n",
       "  3341407545,\n",
       "  2400548465,\n",
       "  672821872,\n",
       "  824611450,\n",
       "  1059349131,\n",
       "  2497080911,\n",
       "  2718285861,\n",
       "  2828395254,\n",
       "  2572194548,\n",
       "  1703384013,\n",
       "  4065372102,\n",
       "  3774085607,\n",
       "  3621829906,\n",
       "  1919690965,\n",
       "  1311472025,\n",
       "  3905476357,\n",
       "  3121567401,\n",
       "  4072087469,\n",
       "  2993794987,\n",
       "  2479699466,\n",
       "  3236627683,\n",
       "  2369577243,\n",
       "  2999546931,\n",
       "  4167995751,\n",
       "  846925669,\n",
       "  204296785,\n",
       "  2818046881,\n",
       "  1854071505,\n",
       "  4174402830,\n",
       "  3820212734,\n",
       "  3305846221,\n",
       "  748814893,\n",
       "  3567595401,\n",
       "  1024061985,\n",
       "  2245297366,\n",
       "  2068232621,\n",
       "  237831372,\n",
       "  20965229,\n",
       "  354123046,\n",
       "  2296009743,\n",
       "  2861906313,\n",
       "  3605908592,\n",
       "  3633003783,\n",
       "  1819191552,\n",
       "  3016794754,\n",
       "  851628609,\n",
       "  3441047983,\n",
       "  47363310,\n",
       "  3120550850,\n",
       "  1139878098,\n",
       "  448649520,\n",
       "  3488028671,\n",
       "  1277854440,\n",
       "  4057170221,\n",
       "  3207054664,\n",
       "  798886792,\n",
       "  3554587610,\n",
       "  1908239526,\n",
       "  1558792567,\n",
       "  4119926795,\n",
       "  2820711884,\n",
       "  1333683373,\n",
       "  705191152,\n",
       "  2013525210,\n",
       "  282717953,\n",
       "  1466933974,\n",
       "  2465141105,\n",
       "  3303957388,\n",
       "  1132732923,\n",
       "  1145831095,\n",
       "  3327518577,\n",
       "  4279403688,\n",
       "  4265848453,\n",
       "  1312662031,\n",
       "  1994635503,\n",
       "  243337730,\n",
       "  777361680,\n",
       "  1333774844,\n",
       "  965103066,\n",
       "  2616925975,\n",
       "  4076784184,\n",
       "  4011892744,\n",
       "  2774915572,\n",
       "  1849956847,\n",
       "  931910596,\n",
       "  1532271290,\n",
       "  1586170701,\n",
       "  1177926715,\n",
       "  2896208092,\n",
       "  3219852478,\n",
       "  365508067,\n",
       "  3115957424,\n",
       "  718266964,\n",
       "  1689528654,\n",
       "  2963516068,\n",
       "  3808142672,\n",
       "  587722880,\n",
       "  1464076319,\n",
       "  1455077028,\n",
       "  3875699532,\n",
       "  2366882680,\n",
       "  3866560585,\n",
       "  3172649762,\n",
       "  1792287862,\n",
       "  3811159528,\n",
       "  3825171708,\n",
       "  2207763074,\n",
       "  438716446,\n",
       "  4050520951,\n",
       "  3866006761,\n",
       "  3566817994,\n",
       "  2491684352,\n",
       "  645328052,\n",
       "  1449932237,\n",
       "  2820103474,\n",
       "  1612721573,\n",
       "  2061220517,\n",
       "  2476179399,\n",
       "  2982550872,\n",
       "  3840014271,\n",
       "  3425647368,\n",
       "  740102291,\n",
       "  810886139,\n",
       "  1924017068,\n",
       "  1043209812,\n",
       "  4139914643,\n",
       "  630090032,\n",
       "  4219013496,\n",
       "  2313934421,\n",
       "  3473826362,\n",
       "  3802203968,\n",
       "  290645571,\n",
       "  3197017569,\n",
       "  3940097578,\n",
       "  4011899034,\n",
       "  2369519276,\n",
       "  3296884523,\n",
       "  892607371,\n",
       "  1413472657,\n",
       "  388054936,\n",
       "  711403395,\n",
       "  107314147,\n",
       "  2009255516,\n",
       "  758755373,\n",
       "  1389405762,\n",
       "  1292197671,\n",
       "  358513416,\n",
       "  3443290709,\n",
       "  292595535,\n",
       "  3452911352,\n",
       "  2485592548,\n",
       "  2600095158,\n",
       "  2810250673,\n",
       "  497889366,\n",
       "  3010680541,\n",
       "  259538738,\n",
       "  3756945686,\n",
       "  422652740,\n",
       "  1203506532,\n",
       "  4131727285,\n",
       "  2157888504,\n",
       "  3273447591,\n",
       "  1829077370,\n",
       "  1295439316,\n",
       "  530384856,\n",
       "  1149888892,\n",
       "  2321967903,\n",
       "  891955785,\n",
       "  473566849,\n",
       "  3519140673,\n",
       "  3144274535,\n",
       "  1259011048,\n",
       "  1156427817,\n",
       "  895284071,\n",
       "  2377040484,\n",
       "  4241198910,\n",
       "  2280693069,\n",
       "  3697981312,\n",
       "  1119467246,\n",
       "  3556990199,\n",
       "  1113716788,\n",
       "  1460575753,\n",
       "  3705186363,\n",
       "  3611039629,\n",
       "  344415674,\n",
       "  3034494076,\n",
       "  4095423227,\n",
       "  2697324684,\n",
       "  1615025419,\n",
       "  1272896124,\n",
       "  4055351143,\n",
       "  3646724621,\n",
       "  269968286,\n",
       "  4116257715,\n",
       "  294508821,\n",
       "  1419217763,\n",
       "  4036120667,\n",
       "  1827401612,\n",
       "  1525678025,\n",
       "  1018235037,\n",
       "  3702667018,\n",
       "  1346658682,\n",
       "  3495948611,\n",
       "  3625603931,\n",
       "  2661442823,\n",
       "  2744448562,\n",
       "  536983842,\n",
       "  21941751,\n",
       "  2467209761,\n",
       "  3507484085,\n",
       "  206694418,\n",
       "  2522928492,\n",
       "  2486682278,\n",
       "  2229999080,\n",
       "  1239495809,\n",
       "  3594747412,\n",
       "  2098652464,\n",
       "  1024616458,\n",
       "  319563817,\n",
       "  1723749664,\n",
       "  1562859652,\n",
       "  2960194106,\n",
       "  3072345097,\n",
       "  1252154275,\n",
       "  2529517472,\n",
       "  4084655496,\n",
       "  3586270999,\n",
       "  3252213139,\n",
       "  1612251370,\n",
       "  1233651915,\n",
       "  4117729260,\n",
       "  2570836591,\n",
       "  1485012869,\n",
       "  1505693951,\n",
       "  3892130049,\n",
       "  3469382236,\n",
       "  1167180607,\n",
       "  1885263346,\n",
       "  3109791807,\n",
       "  1943722288,\n",
       "  464986736,\n",
       "  2043971426,\n",
       "  2605002346,\n",
       "  2588552948,\n",
       "  4272872893,\n",
       "  730468047,\n",
       "  10480314,\n",
       "  624),\n",
       " None)"
      ]
     },
     "execution_count": 11,
     "metadata": {},
     "output_type": "execute_result"
    }
   ],
   "source": [
    "import random\n",
    "random.getstate( )"
   ]
  },
  {
   "cell_type": "code",
   "execution_count": 12,
   "metadata": {},
   "outputs": [
    {
     "data": {
      "text/plain": [
       "'n'"
      ]
     },
     "execution_count": 12,
     "metadata": {},
     "output_type": "execute_result"
    }
   ],
   "source": [
    "import random\n",
    "s='python'\n",
    "random.choice(s)"
   ]
  },
  {
   "cell_type": "markdown",
   "metadata": {},
   "source": [
    "# Packages and Modules\n",
    "# * package is a collection of modules.\n",
    "# * whereas  module is a program/collection of functions.\n",
    "# *modules\n",
    "# -math\n",
    "# -time \n",
    "# -calender\n",
    "# -random"
   ]
  },
  {
   "cell_type": "code",
   "execution_count": 13,
   "metadata": {},
   "outputs": [
    {
     "name": "stdout",
     "output_type": "stream",
     "text": [
      "[91, 2, 3, 3, 4, 4, 4, 3, 4, 367, 8, 9, 4, 5, 6, 7, 1, 12, 32]\n",
      "None\n",
      "[4, 91, 2, 7, 4, 8, 5, 4, 1, 3, 3, 12, 367, 4, 6, 4, 9, 32, 3]\n"
     ]
    }
   ],
   "source": [
    "import random\n",
    "l=[91,2,3,3,4,4,4,3,4,367,8,9,4,5,6,7,1,12,32]\n",
    "print(l)\n",
    "print(random.shuffle(l))\n",
    "print(l)\n"
   ]
  },
  {
   "cell_type": "code",
   "execution_count": 14,
   "metadata": {},
   "outputs": [
    {
     "name": "stdout",
     "output_type": "stream",
     "text": [
      "['Calendar', 'EPOCH', 'FRIDAY', 'February', 'HTMLCalendar', 'IllegalMonthError', 'IllegalWeekdayError', 'January', 'LocaleHTMLCalendar', 'LocaleTextCalendar', 'MONDAY', 'SATURDAY', 'SUNDAY', 'THURSDAY', 'TUESDAY', 'TextCalendar', 'WEDNESDAY', '_EPOCH_ORD', '__all__', '__builtins__', '__cached__', '__doc__', '__file__', '__loader__', '__name__', '__package__', '__spec__', '_colwidth', '_locale', '_localized_day', '_localized_month', '_monthlen', '_nextmonth', '_prevmonth', '_spacing', 'c', 'calendar', 'datetime', 'day_abbr', 'day_name', 'different_locale', 'error', 'firstweekday', 'format', 'formatstring', 'isleap', 'leapdays', 'main', 'mdays', 'month', 'month_abbr', 'month_name', 'monthcalendar', 'monthrange', 'prcal', 'prmonth', 'prweek', 'repeat', 'setfirstweekday', 'sys', 'timegm', 'week', 'weekday', 'weekheader']\n"
     ]
    }
   ],
   "source": [
    "import calendar\n",
    "print(dir(calendar))"
   ]
  },
  {
   "cell_type": "code",
   "execution_count": 15,
   "metadata": {},
   "outputs": [
    {
     "name": "stdout",
     "output_type": "stream",
     "text": [
      "False\n"
     ]
    }
   ],
   "source": [
    "import calendar\n",
    "print(calendar.isleap(2021))"
   ]
  },
  {
   "cell_type": "code",
   "execution_count": 16,
   "metadata": {},
   "outputs": [
    {
     "name": "stdout",
     "output_type": "stream",
     "text": [
      "12\n"
     ]
    }
   ],
   "source": [
    "import  calendar\n",
    "print(calendar.leapdays(1994,2043))"
   ]
  },
  {
   "cell_type": "code",
   "execution_count": 17,
   "metadata": {
    "scrolled": true
   },
   "outputs": [],
   "source": [
    "\n",
    "l=[1,2,3,3,232,3,4,5]\n",
    "def duplicate(l):\n",
    "    s=[]\n",
    "    for i in l:\n",
    "        if i not in s:\n",
    "            s.append(i)\n",
    "    print(s)\n"
   ]
  },
  {
   "cell_type": "code",
   "execution_count": 18,
   "metadata": {},
   "outputs": [
    {
     "ename": "ModuleNotFoundError",
     "evalue": "No module named 'package'",
     "output_type": "error",
     "traceback": [
      "\u001b[1;31m---------------------------------------------------------------------------\u001b[0m",
      "\u001b[1;31mModuleNotFoundError\u001b[0m                       Traceback (most recent call last)",
      "\u001b[1;32m<ipython-input-18-9235998af5b1>\u001b[0m in \u001b[0;36m<module>\u001b[1;34m\u001b[0m\n\u001b[1;32m----> 1\u001b[1;33m \u001b[1;32mfrom\u001b[0m \u001b[0mpackage\u001b[0m\u001b[1;33m.\u001b[0m\u001b[0mmodule\u001b[0m\u001b[1;33m.\u001b[0m\u001b[0mpy\u001b[0m \u001b[1;32mimport\u001b[0m \u001b[0mduplicate\u001b[0m\u001b[1;33m\u001b[0m\u001b[1;33m\u001b[0m\u001b[0m\n\u001b[0m\u001b[0;32m      2\u001b[0m \u001b[0mduplicate\u001b[0m\u001b[1;33m[\u001b[0m\u001b[1;36m1\u001b[0m\u001b[1;33m,\u001b[0m\u001b[1;36m2\u001b[0m\u001b[1;33m,\u001b[0m\u001b[1;36m3\u001b[0m\u001b[1;33m,\u001b[0m\u001b[1;36m2\u001b[0m\u001b[1;33m,\u001b[0m\u001b[1;36m3\u001b[0m\u001b[1;33m,\u001b[0m\u001b[1;36m2\u001b[0m\u001b[1;33m,\u001b[0m\u001b[1;36m3\u001b[0m\u001b[1;33m,\u001b[0m\u001b[1;36m4\u001b[0m\u001b[1;33m,\u001b[0m\u001b[1;36m5\u001b[0m\u001b[1;33m,\u001b[0m\u001b[1;36m6\u001b[0m\u001b[1;33m]\u001b[0m\u001b[1;33m\u001b[0m\u001b[1;33m\u001b[0m\u001b[0m\n",
      "\u001b[1;31mModuleNotFoundError\u001b[0m: No module named 'package'"
     ]
    }
   ],
   "source": [
    "from package.module.py import duplicate\n",
    "duplicate[1,2,3,2,3,2,3,4,5,6]"
   ]
  },
  {
   "cell_type": "code",
   "execution_count": 19,
   "metadata": {},
   "outputs": [
    {
     "ename": "ModuleNotFoundError",
     "evalue": "No module named 'package'",
     "output_type": "error",
     "traceback": [
      "\u001b[1;31m---------------------------------------------------------------------------\u001b[0m",
      "\u001b[1;31mModuleNotFoundError\u001b[0m                       Traceback (most recent call last)",
      "\u001b[1;32m<ipython-input-19-3ad1362138fa>\u001b[0m in \u001b[0;36m<module>\u001b[1;34m\u001b[0m\n\u001b[1;32m----> 1\u001b[1;33m \u001b[1;32mfrom\u001b[0m \u001b[0mpackage\u001b[0m\u001b[1;33m.\u001b[0m\u001b[0mmodule\u001b[0m\u001b[1;33m.\u001b[0m\u001b[0mpy\u001b[0m \u001b[1;32mimport\u001b[0m \u001b[0munique\u001b[0m\u001b[1;33m\u001b[0m\u001b[1;33m\u001b[0m\u001b[0m\n\u001b[0m\u001b[0;32m      2\u001b[0m \u001b[0munique\u001b[0m\u001b[1;33m(\u001b[0m\u001b[1;33m[\u001b[0m\u001b[1;36m1\u001b[0m\u001b[1;33m,\u001b[0m\u001b[1;36m2\u001b[0m\u001b[1;33m,\u001b[0m\u001b[1;36m3\u001b[0m\u001b[1;33m,\u001b[0m\u001b[1;36m2\u001b[0m\u001b[1;33m,\u001b[0m\u001b[1;36m3\u001b[0m\u001b[1;33m,\u001b[0m\u001b[1;36m2\u001b[0m\u001b[1;33m,\u001b[0m\u001b[1;36m4\u001b[0m\u001b[1;33m,\u001b[0m\u001b[1;36m5\u001b[0m\u001b[1;33m,\u001b[0m\u001b[1;36m6\u001b[0m\u001b[1;33m]\u001b[0m\u001b[1;33m)\u001b[0m\u001b[1;33m\u001b[0m\u001b[1;33m\u001b[0m\u001b[0m\n",
      "\u001b[1;31mModuleNotFoundError\u001b[0m: No module named 'package'"
     ]
    }
   ],
   "source": [
    "from package.module.py import unique\n",
    "unique([1,2,3,2,3,2,4,5,6])"
   ]
  },
  {
   "cell_type": "markdown",
   "metadata": {},
   "source": [
    "# Regular expressions\n",
    "# - built_in package in python\n",
    "* to match specific patterns\n",
    "*- search()\n",
    "-returns 1st occurence while\n"
   ]
  },
  {
   "cell_type": "code",
   "execution_count": 26,
   "metadata": {},
   "outputs": [
    {
     "data": {
      "text/plain": [
       "<re.Match object; span=(6, 7), match='m'>"
      ]
     },
     "execution_count": 26,
     "metadata": {},
     "output_type": "execute_result"
    }
   ],
   "source": [
    "import re\n",
    "re.search('m','programming')"
   ]
  },
  {
   "cell_type": "code",
   "execution_count": 27,
   "metadata": {},
   "outputs": [
    {
     "data": {
      "text/plain": [
       "['o', 'o', 'o']"
      ]
     },
     "execution_count": 27,
     "metadata": {},
     "output_type": "execute_result"
    }
   ],
   "source": [
    "re.findall('o','progrogro')"
   ]
  },
  {
   "cell_type": "code",
   "execution_count": 22,
   "metadata": {},
   "outputs": [
    {
     "data": {
      "text/plain": [
       "[]"
      ]
     },
     "execution_count": 22,
     "metadata": {},
     "output_type": "execute_result"
    }
   ],
   "source": [
    "re.findall('s','progrogro')"
   ]
  },
  {
   "cell_type": "code",
   "execution_count": 23,
   "metadata": {},
   "outputs": [
    {
     "data": {
      "text/plain": [
       "['pro']"
      ]
     },
     "execution_count": 23,
     "metadata": {},
     "output_type": "execute_result"
    }
   ],
   "source": [
    "re.findall('pro','progrogro')"
   ]
  },
  {
   "cell_type": "code",
   "execution_count": 25,
   "metadata": {},
   "outputs": [
    {
     "data": {
      "text/plain": [
       "[]"
      ]
     },
     "execution_count": 25,
     "metadata": {},
     "output_type": "execute_result"
    }
   ],
   "source": [
    "re.findall('pri','progrogro')"
   ]
  },
  {
   "cell_type": "markdown",
   "metadata": {},
   "source": [
    "\n",
    "- ^- matches starting char\n",
    "-$-matches end char\n",
    "-[0-9]-numbers\n",
    "-[a-z]-lower letters\n",
    "-[A-Z]-capital letters\n",
    "-[a-zA-Z]-both cases\n",
    "-[0-9]{4}-accepts only four digit numbers\n",
    "- . --matches any char\n",
    "- + -matches more occurances\n",
    "- [@]-matches special charecter\n",
    "* **-phone numer validation**\n",
    "* **should contain 10 digits**\n",
    "* **starts with anyone of 6,7,8,9**\n",
    "* **starts with country code +91**\n"
   ]
  },
  {
   "cell_type": "code",
   "execution_count": 2,
   "metadata": {},
   "outputs": [
    {
     "data": {
      "text/plain": [
       "['2', '33', '3']"
      ]
     },
     "execution_count": 2,
     "metadata": {},
     "output_type": "execute_result"
    }
   ],
   "source": [
    "import re\n",
    "k='lucky 2 nums are 33,3'\n",
    "re.findall('[0-9]+',k)\n"
   ]
  },
  {
   "cell_type": "code",
   "execution_count": 15,
   "metadata": {},
   "outputs": [
    {
     "name": "stdout",
     "output_type": "stream",
     "text": [
      "enter pn:6565656565\n",
      "YO!!! valid\n"
     ]
    }
   ],
   "source": [
    "import re\n",
    "pn=input(\"enter pn:\")\n",
    "pattern='^[6-9][0-9]{9}$|^[+][9][1][6-9][0-9]{9}$'\n",
    "if re.match(pattern,pn):\n",
    "    print(\"YO!!! valid\")\n",
    "else:\n",
    "    print(\"not valid\")"
   ]
  },
  {
   "cell_type": "markdown",
   "metadata": {},
   "source": [
    "# email verification\n",
    " * **username@domain.com**\n",
    " * **username specifications**\n",
    " * **len min 6 max 60**\n",
    " * **accepts underscore and a dot**\n",
    " * **starts with number or alphabet**\n",
    " *- **domain**\n",
    " * -**length min 5 max 10**\n",
    " * -**contains only alphabets**\n",
    " * **extension**\n",
    " *- **min 3**\n",
    " * -**contains only alphabets**"
   ]
  },
  {
   "cell_type": "code",
   "execution_count": 11,
   "metadata": {},
   "outputs": [
    {
     "name": "stdout",
     "output_type": "stream",
     "text": [
      "enter email:skshabeena2002@gmail.com\n",
      "invalid email\n"
     ]
    }
   ],
   "source": [
    "import re\n",
    "email=input(\"enter email:\")\n",
    "pattern='^[0-9a-z][0-9a-z_.]{5,20}[@][a-z]{5,10}[.][a-z]{2-5}$'\n",
    "if re.match(pattern,email):\n",
    "    print('valid email')\n",
    "else:\n",
    "    print(\"invalid email\")\n",
    "            "
   ]
  },
  {
   "cell_type": "markdown",
   "metadata": {},
   "source": [
    "#  File Handling\n",
    "* **used to store information**\n",
    "* **opening a file**\n",
    "* -1.open(filepath,mode)\n",
    "* -2.withopen\n",
    "# operations\n",
    "* **1.read**\n",
    "* **2.write**\n",
    "* **3.close file**"
   ]
  },
  {
   "cell_type": "code",
   "execution_count": 4,
   "metadata": {},
   "outputs": [
    {
     "name": "stdout",
     "output_type": "stream",
     "text": [
      "5\n"
     ]
    }
   ],
   "source": [
    "#using open\n",
    "f=open(\"Datafiles/demo.txt\",\"w\")\n",
    "data=f.write('hello')\n",
    "f.close()\n",
    "print(data)"
   ]
  },
  {
   "cell_type": "code",
   "execution_count": 3,
   "metadata": {},
   "outputs": [
    {
     "name": "stdout",
     "output_type": "stream",
     "text": [
      "hello\n"
     ]
    }
   ],
   "source": [
    "with open('Datafiles/demo.txt')as info:\n",
    "    fh=info.read()\n",
    "    print(fh)"
   ]
  },
  {
   "cell_type": "code",
   "execution_count": 17,
   "metadata": {},
   "outputs": [
    {
     "name": "stdout",
     "output_type": "stream",
     "text": [
      "10\n"
     ]
    }
   ],
   "source": [
    "with open('Datafiles/demo.txt','w')as info:\n",
    "    fh=info.write('dedication')\n",
    "    print(fh)"
   ]
  },
  {
   "cell_type": "code",
   "execution_count": 23,
   "metadata": {},
   "outputs": [
    {
     "name": "stdout",
     "output_type": "stream",
     "text": [
      "dedication\n"
     ]
    }
   ],
   "source": [
    "with open('Datafiles/demo.txt','r')as info:\n",
    "    fh=info.read()\n",
    "    print(fh)"
   ]
  },
  {
   "cell_type": "code",
   "execution_count": 34,
   "metadata": {},
   "outputs": [
    {
     "name": "stdout",
     "output_type": "stream",
     "text": [
      "1\n",
      "2\n",
      "3\n",
      "4\n",
      "5\n",
      "6\n",
      "7\n",
      "8\n",
      "9\n",
      "10\n"
     ]
    }
   ],
   "source": [
    "with open('Datafiles/demo.txt','r')as info:\n",
    "    fh=info.read()\n",
    "    count=0\n",
    "    for i in fh:\n",
    "        if(i!=' '):\n",
    "            count=count+1\n",
    "        print(count)"
   ]
  },
  {
   "cell_type": "code",
   "execution_count": 45,
   "metadata": {},
   "outputs": [
    {
     "name": "stdout",
     "output_type": "stream",
     "text": [
      "0\n"
     ]
    }
   ],
   "source": [
    "f=open('Datafiles/charcount.txt','r')\n",
    "f1=f.read().split()\n",
    "num=len(f1)\n",
    "print(num)"
   ]
  },
  {
   "cell_type": "code",
   "execution_count": 36,
   "metadata": {},
   "outputs": [
    {
     "name": "stdout",
     "output_type": "stream",
     "text": [
      "6\n"
     ]
    }
   ],
   "source": [
    "with open('Datafiles/demo.txt1','w')as info:\n",
    "    fh=info.write('spirit')\n",
    "    print(fh)"
   ]
  },
  {
   "cell_type": "code",
   "execution_count": 40,
   "metadata": {},
   "outputs": [
    {
     "name": "stdout",
     "output_type": "stream",
     "text": [
      "spirit\n"
     ]
    }
   ],
   "source": [
    "with open('Datafiles/demo.txt1','r')as info:\n",
    "    fh=info.read()\n",
    "    print(fh)\n",
    "    "
   ]
  },
  {
   "cell_type": "code",
   "execution_count": 49,
   "metadata": {},
   "outputs": [
    {
     "ename": "FileNotFoundError",
     "evalue": "[Errno 2] No such file or directory: 'dtafiles/removeduplicate.txt'",
     "output_type": "error",
     "traceback": [
      "\u001b[1;31m---------------------------------------------------------------------------\u001b[0m",
      "\u001b[1;31mFileNotFoundError\u001b[0m                         Traceback (most recent call last)",
      "\u001b[1;32m<ipython-input-49-88356303afca>\u001b[0m in \u001b[0;36m<module>\u001b[1;34m\u001b[0m\n\u001b[1;32m----> 1\u001b[1;33m \u001b[1;32mwith\u001b[0m \u001b[0mopen\u001b[0m\u001b[1;33m(\u001b[0m\u001b[1;34m'dtafiles/removeduplicate.txt'\u001b[0m\u001b[1;33m,\u001b[0m\u001b[1;34m'w'\u001b[0m\u001b[1;33m)\u001b[0m\u001b[1;32mas\u001b[0m \u001b[0minfo\u001b[0m\u001b[1;33m:\u001b[0m\u001b[1;33m\u001b[0m\u001b[1;33m\u001b[0m\u001b[0m\n\u001b[0m\u001b[0;32m      2\u001b[0m     \u001b[0mfh\u001b[0m\u001b[1;33m=\u001b[0m\u001b[0minfo\u001b[0m\u001b[1;33m.\u001b[0m\u001b[0mwrite\u001b[0m\u001b[1;33m(\u001b[0m\u001b[1;33m)\u001b[0m\u001b[1;33m\u001b[0m\u001b[1;33m\u001b[0m\u001b[0m\n\u001b[0;32m      3\u001b[0m \u001b[1;32mwith\u001b[0m \u001b[0mopen\u001b[0m\u001b[1;33m(\u001b[0m\u001b[1;34m'dtafiles/removeduplicate.txt'\u001b[0m\u001b[1;33m,\u001b[0m\u001b[1;34m'r'\u001b[0m\u001b[1;33m)\u001b[0m\u001b[1;32mas\u001b[0m \u001b[0minfo\u001b[0m\u001b[1;33m:\u001b[0m\u001b[1;33m\u001b[0m\u001b[1;33m\u001b[0m\u001b[0m\n\u001b[0;32m      4\u001b[0m     \u001b[0mfh\u001b[0m\u001b[1;33m=\u001b[0m\u001b[0minfo\u001b[0m\u001b[1;33m.\u001b[0m\u001b[0mread\u001b[0m\u001b[1;33m(\u001b[0m\u001b[1;33m)\u001b[0m\u001b[1;33m\u001b[0m\u001b[1;33m\u001b[0m\u001b[0m\n\u001b[0;32m      5\u001b[0m     \u001b[0mfh1\u001b[0m\u001b[1;33m=\u001b[0m\u001b[0mfh\u001b[0m\u001b[1;33m.\u001b[0m\u001b[0msplit\u001b[0m\u001b[1;33m\u001b[0m\u001b[1;33m\u001b[0m\u001b[0m\n",
      "\u001b[1;31mFileNotFoundError\u001b[0m: [Errno 2] No such file or directory: 'dtafiles/removeduplicate.txt'"
     ]
    }
   ],
   "source": [
    "with open('dtafiles/removeduplicate.txt','w')as info:\n",
    "    fh=info.write()\n",
    "with open('dtafiles/removeduplicate.txt','r')as info:\n",
    "    fh=info.read()\n",
    "    fh1=fh.split\n",
    "    l1=[]\n",
    "    for i in fh1:\n",
    "        if i not in l1:\n",
    "            l1.append(i)\n",
    "    print(l1)"
   ]
  },
  {
   "cell_type": "code",
   "execution_count": 1,
   "metadata": {},
   "outputs": [
    {
     "ename": "FileNotFoundError",
     "evalue": "[Errno 2] No such file or directory: 'Datafiles/dict.txt'",
     "output_type": "error",
     "traceback": [
      "\u001b[1;31m---------------------------------------------------------------------------\u001b[0m",
      "\u001b[1;31mFileNotFoundError\u001b[0m                         Traceback (most recent call last)",
      "\u001b[1;32m<ipython-input-1-1036add8cd72>\u001b[0m in \u001b[0;36m<module>\u001b[1;34m\u001b[0m\n\u001b[1;32m----> 1\u001b[1;33m \u001b[1;32mwith\u001b[0m \u001b[0mopen\u001b[0m\u001b[1;33m(\u001b[0m\u001b[1;34m'Datafiles/dict.txt'\u001b[0m\u001b[1;33m,\u001b[0m\u001b[1;33m)\u001b[0m \u001b[1;32mas\u001b[0m \u001b[0minfo\u001b[0m\u001b[1;33m:\u001b[0m\u001b[1;33m\u001b[0m\u001b[1;33m\u001b[0m\u001b[0m\n\u001b[0m\u001b[0;32m      2\u001b[0m     \u001b[0mfh\u001b[0m\u001b[1;33m=\u001b[0m\u001b[0mf\u001b[0m\u001b[1;33m.\u001b[0m\u001b[0mread\u001b[0m\u001b[1;33m(\u001b[0m\u001b[1;33m)\u001b[0m\u001b[1;33m\u001b[0m\u001b[1;33m\u001b[0m\u001b[0m\n\u001b[0;32m      3\u001b[0m     \u001b[0md1\u001b[0m\u001b[1;33m=\u001b[0m\u001b[1;33m{\u001b[0m\u001b[1;33m}\u001b[0m\u001b[1;33m\u001b[0m\u001b[1;33m\u001b[0m\u001b[0m\n\u001b[0;32m      4\u001b[0m     \u001b[1;32mfor\u001b[0m \u001b[0mi\u001b[0m \u001b[1;32min\u001b[0m \u001b[0mfh\u001b[0m\u001b[1;33m:\u001b[0m\u001b[1;33m\u001b[0m\u001b[1;33m\u001b[0m\u001b[0m\n\u001b[0;32m      5\u001b[0m         \u001b[0md1\u001b[0m\u001b[1;33m[\u001b[0m\u001b[0mi\u001b[0m\u001b[1;33m]\u001b[0m\u001b[1;33m=\u001b[0m\u001b[0mfh\u001b[0m\u001b[1;33m.\u001b[0m\u001b[0mcount\u001b[0m\u001b[1;33m(\u001b[0m\u001b[0mi\u001b[0m\u001b[1;33m)\u001b[0m\u001b[1;33m\u001b[0m\u001b[1;33m\u001b[0m\u001b[0m\n",
      "\u001b[1;31mFileNotFoundError\u001b[0m: [Errno 2] No such file or directory: 'Datafiles/dict.txt'"
     ]
    }
   ],
   "source": [
    "\n",
    "with open('Datafiles/dict.txt',) as info:\n",
    "    fh=f.read()\n",
    "    d1={}\n",
    "    for i in fh:\n",
    "        d1[i]=fh.count(i)\n",
    "    print(d1)\n",
    "    \n",
    "   "
   ]
  },
  {
   "cell_type": "code",
   "execution_count": null,
   "metadata": {},
   "outputs": [
    {
     "name": "stdout",
     "output_type": "stream",
     "text": [
      "Enter student count:10\n",
      "Enter lower count:20\n"
     ]
    }
   ],
   "source": [
    "from random import randint\n",
    "def marksgen(n,lb,ub):\n",
    "    with open('Datafiles/marks.txt','w')as f:\n",
    "        for i in range(0,n):\n",
    "            r=randint(lb,ub)\n",
    "            f.write(str(r)+'\\n')\n",
    "    return\n",
    "n=int(input('Enter student count:'))\n",
    "lb=int(input('Enter lower count:'))\n",
    "ub=int(input('Enter upper count:'))\n",
    "marksgen(n,lb,ub)\n",
    "\n"
   ]
  },
  {
   "cell_type": "code",
   "execution_count": 2,
   "metadata": {},
   "outputs": [
    {
     "name": "stdout",
     "output_type": "stream",
     "text": [
      "Enter student number:12\n",
      "Enter lower range:33\n",
      "Enter upper range:3\n"
     ]
    },
    {
     "ename": "ValueError",
     "evalue": "empty range for randrange() (33, 4, -29)",
     "output_type": "error",
     "traceback": [
      "\u001b[1;31m---------------------------------------------------------------------------\u001b[0m",
      "\u001b[1;31mValueError\u001b[0m                                Traceback (most recent call last)",
      "\u001b[1;32m<ipython-input-2-266ad7365d41>\u001b[0m in \u001b[0;36m<module>\u001b[1;34m\u001b[0m\n\u001b[0;32m      9\u001b[0m \u001b[0mlb\u001b[0m\u001b[1;33m=\u001b[0m\u001b[0mint\u001b[0m\u001b[1;33m(\u001b[0m\u001b[0minput\u001b[0m\u001b[1;33m(\u001b[0m\u001b[1;34m'Enter lower range:'\u001b[0m\u001b[1;33m)\u001b[0m\u001b[1;33m)\u001b[0m\u001b[1;33m\u001b[0m\u001b[1;33m\u001b[0m\u001b[0m\n\u001b[0;32m     10\u001b[0m \u001b[0mub\u001b[0m\u001b[1;33m=\u001b[0m\u001b[0mint\u001b[0m\u001b[1;33m(\u001b[0m\u001b[0minput\u001b[0m\u001b[1;33m(\u001b[0m\u001b[1;34m'Enter upper range:'\u001b[0m\u001b[1;33m)\u001b[0m\u001b[1;33m)\u001b[0m\u001b[1;33m\u001b[0m\u001b[1;33m\u001b[0m\u001b[0m\n\u001b[1;32m---> 11\u001b[1;33m \u001b[0mmarksgen\u001b[0m\u001b[1;33m(\u001b[0m\u001b[0mn\u001b[0m\u001b[1;33m,\u001b[0m\u001b[0mlb\u001b[0m\u001b[1;33m,\u001b[0m\u001b[0mub\u001b[0m\u001b[1;33m)\u001b[0m\u001b[1;33m\u001b[0m\u001b[1;33m\u001b[0m\u001b[0m\n\u001b[0m\u001b[0;32m     12\u001b[0m \u001b[0msum\u001b[0m\u001b[1;33m=\u001b[0m\u001b[1;36m0\u001b[0m\u001b[1;33m+\u001b[0m\u001b[0mi\u001b[0m\u001b[1;33m\u001b[0m\u001b[1;33m\u001b[0m\u001b[0m\n\u001b[0;32m     13\u001b[0m \u001b[0mavg\u001b[0m\u001b[1;33m=\u001b[0m\u001b[0msum\u001b[0m\u001b[1;33m/\u001b[0m\u001b[1;36m3\u001b[0m\u001b[1;33m\u001b[0m\u001b[1;33m\u001b[0m\u001b[0m\n",
      "\u001b[1;32m<ipython-input-2-266ad7365d41>\u001b[0m in \u001b[0;36mmarksgen\u001b[1;34m(n, lb, ub)\u001b[0m\n\u001b[0;32m      3\u001b[0m     \u001b[1;32mwith\u001b[0m \u001b[0mopen\u001b[0m\u001b[1;33m(\u001b[0m\u001b[1;34m'Datafiles/marks.txt'\u001b[0m\u001b[1;33m,\u001b[0m\u001b[1;34m'r'\u001b[0m\u001b[1;33m)\u001b[0m\u001b[1;32mas\u001b[0m \u001b[0mf\u001b[0m\u001b[1;33m:\u001b[0m\u001b[1;33m\u001b[0m\u001b[1;33m\u001b[0m\u001b[0m\n\u001b[0;32m      4\u001b[0m         \u001b[1;32mfor\u001b[0m \u001b[0mi\u001b[0m \u001b[1;32min\u001b[0m \u001b[0mrange\u001b[0m\u001b[1;33m(\u001b[0m\u001b[1;36m0\u001b[0m\u001b[1;33m,\u001b[0m\u001b[0mn\u001b[0m\u001b[1;33m)\u001b[0m\u001b[1;33m:\u001b[0m\u001b[1;33m\u001b[0m\u001b[1;33m\u001b[0m\u001b[0m\n\u001b[1;32m----> 5\u001b[1;33m             \u001b[0mr\u001b[0m\u001b[1;33m=\u001b[0m\u001b[0mrandint\u001b[0m\u001b[1;33m(\u001b[0m\u001b[0mlb\u001b[0m\u001b[1;33m,\u001b[0m\u001b[0mub\u001b[0m\u001b[1;33m)\u001b[0m\u001b[1;33m\u001b[0m\u001b[1;33m\u001b[0m\u001b[0m\n\u001b[0m\u001b[0;32m      6\u001b[0m             \u001b[0mf\u001b[0m\u001b[1;33m.\u001b[0m\u001b[0mread\u001b[0m\u001b[1;33m(\u001b[0m\u001b[0mstr\u001b[0m\u001b[1;33m(\u001b[0m\u001b[0mr\u001b[0m\u001b[1;33m)\u001b[0m\u001b[1;33m+\u001b[0m\u001b[1;34m'\\n'\u001b[0m\u001b[1;33m)\u001b[0m\u001b[1;33m\u001b[0m\u001b[1;33m\u001b[0m\u001b[0m\n\u001b[0;32m      7\u001b[0m     \u001b[1;32mreturn\u001b[0m\u001b[1;33m\u001b[0m\u001b[1;33m\u001b[0m\u001b[0m\n",
      "\u001b[1;32m~\\anaconda3\\lib\\random.py\u001b[0m in \u001b[0;36mrandint\u001b[1;34m(self, a, b)\u001b[0m\n\u001b[0;32m    246\u001b[0m         \"\"\"\n\u001b[0;32m    247\u001b[0m \u001b[1;33m\u001b[0m\u001b[0m\n\u001b[1;32m--> 248\u001b[1;33m         \u001b[1;32mreturn\u001b[0m \u001b[0mself\u001b[0m\u001b[1;33m.\u001b[0m\u001b[0mrandrange\u001b[0m\u001b[1;33m(\u001b[0m\u001b[0ma\u001b[0m\u001b[1;33m,\u001b[0m \u001b[0mb\u001b[0m\u001b[1;33m+\u001b[0m\u001b[1;36m1\u001b[0m\u001b[1;33m)\u001b[0m\u001b[1;33m\u001b[0m\u001b[1;33m\u001b[0m\u001b[0m\n\u001b[0m\u001b[0;32m    249\u001b[0m \u001b[1;33m\u001b[0m\u001b[0m\n\u001b[0;32m    250\u001b[0m     \u001b[1;32mdef\u001b[0m \u001b[0m_randbelow_with_getrandbits\u001b[0m\u001b[1;33m(\u001b[0m\u001b[0mself\u001b[0m\u001b[1;33m,\u001b[0m \u001b[0mn\u001b[0m\u001b[1;33m)\u001b[0m\u001b[1;33m:\u001b[0m\u001b[1;33m\u001b[0m\u001b[1;33m\u001b[0m\u001b[0m\n",
      "\u001b[1;32m~\\anaconda3\\lib\\random.py\u001b[0m in \u001b[0;36mrandrange\u001b[1;34m(self, start, stop, step, _int)\u001b[0m\n\u001b[0;32m    224\u001b[0m             \u001b[1;32mreturn\u001b[0m \u001b[0mistart\u001b[0m \u001b[1;33m+\u001b[0m \u001b[0mself\u001b[0m\u001b[1;33m.\u001b[0m\u001b[0m_randbelow\u001b[0m\u001b[1;33m(\u001b[0m\u001b[0mwidth\u001b[0m\u001b[1;33m)\u001b[0m\u001b[1;33m\u001b[0m\u001b[1;33m\u001b[0m\u001b[0m\n\u001b[0;32m    225\u001b[0m         \u001b[1;32mif\u001b[0m \u001b[0mstep\u001b[0m \u001b[1;33m==\u001b[0m \u001b[1;36m1\u001b[0m\u001b[1;33m:\u001b[0m\u001b[1;33m\u001b[0m\u001b[1;33m\u001b[0m\u001b[0m\n\u001b[1;32m--> 226\u001b[1;33m             \u001b[1;32mraise\u001b[0m \u001b[0mValueError\u001b[0m\u001b[1;33m(\u001b[0m\u001b[1;34m\"empty range for randrange() (%d, %d, %d)\"\u001b[0m \u001b[1;33m%\u001b[0m \u001b[1;33m(\u001b[0m\u001b[0mistart\u001b[0m\u001b[1;33m,\u001b[0m \u001b[0mistop\u001b[0m\u001b[1;33m,\u001b[0m \u001b[0mwidth\u001b[0m\u001b[1;33m)\u001b[0m\u001b[1;33m)\u001b[0m\u001b[1;33m\u001b[0m\u001b[1;33m\u001b[0m\u001b[0m\n\u001b[0m\u001b[0;32m    227\u001b[0m \u001b[1;33m\u001b[0m\u001b[0m\n\u001b[0;32m    228\u001b[0m         \u001b[1;31m# Non-unit step argument supplied.\u001b[0m\u001b[1;33m\u001b[0m\u001b[1;33m\u001b[0m\u001b[1;33m\u001b[0m\u001b[0m\n",
      "\u001b[1;31mValueError\u001b[0m: empty range for randrange() (33, 4, -29)"
     ]
    }
   ],
   "source": [
    "from random import randint\n",
    "def marksgen(n,lb,ub):\n",
    "    with open('Datafiles/marks.txt','r')as f:\n",
    "        for i in range(0,n):\n",
    "            r=randint(lb,ub)\n",
    "            f.read(str(r)+'\\n')\n",
    "    return\n",
    "n=int(input('Enter student number:'))\n",
    "lb=int(input('Enter lower range:'))\n",
    "ub=int(input('Enter upper range:'))\n",
    "marksgen(n,lb,ub) \n",
    "sum=0+i\n",
    "avg=sum/3\n",
    "print(\"average is:\",avg)\n",
    "if marks>20:\n",
    "    print(\"congrats you are passed\")\n",
    "elif marks>15 or marks<20:\n",
    "    print(\"well done,you got distict\" )\n",
    "elif marks>10 or marks<15:\n",
    "    print(\"you got low marks\")\n",
    "else:\n",
    "    print(\"fail\")\n"
   ]
  },
  {
   "cell_type": "code",
   "execution_count": 3,
   "metadata": {},
   "outputs": [
    {
     "name": "stdout",
     "output_type": "stream",
     "text": [
      "15.722222222222221\n"
     ]
    }
   ],
   "source": [
    "#average of marks\n",
    "with open(\"Datafiles/marks.txt\") as f:\n",
    "    data=f.read()\n",
    "    marks=data.split()\n",
    "    sum=0\n",
    "    for mark in marks:\n",
    "        sum+=int(mark)\n",
    "    print(sum/len(marks))"
   ]
  },
  {
   "cell_type": "code",
   "execution_count": 7,
   "metadata": {},
   "outputs": [
    {
     "name": "stdout",
     "output_type": "stream",
     "text": [
      "congrats you are passed 27.77777777777778\n"
     ]
    }
   ],
   "source": [
    "#pass percentage\n",
    "with open(\"Datafiles/marks.txt\") as f:\n",
    "    data=f.read()\n",
    "    marks=data.split()\n",
    "    pc=0\n",
    "    for mark in marks:\n",
    "\n",
    "        if int(mark)>20:\n",
    "            pc+=1\n",
    "    print(\"congrats you are passed\",pc/len(marks)*100)\n",
    "      "
   ]
  },
  {
   "cell_type": "code",
   "execution_count": 5,
   "metadata": {},
   "outputs": [
    {
     "ename": "SyntaxError",
     "evalue": "invalid syntax (<ipython-input-5-3f429cf18279>, line 4)",
     "output_type": "error",
     "traceback": [
      "\u001b[1;36m  File \u001b[1;32m\"<ipython-input-5-3f429cf18279>\"\u001b[1;36m, line \u001b[1;32m4\u001b[0m\n\u001b[1;33m    elif int(marks)>15 or int(marks)<20:\u001b[0m\n\u001b[1;37m    ^\u001b[0m\n\u001b[1;31mSyntaxError\u001b[0m\u001b[1;31m:\u001b[0m invalid syntax\n"
     ]
    }
   ],
   "source": [
    " with open(\"Datafiles/marks.txt\") as f:\n",
    "    data=f.read()\n",
    "    marks=data.split()\n",
    "    elif int(marks)>15 or int(marks)<20:\n",
    "    print(\"well done,you got distict\" )\n",
    "       elif int(marks)>10 or int(marks)<15:\n",
    "    print(\"you got low marks\")\n",
    "       else:\n",
    "    print(\"fail\")\n",
    "     break\n",
    "        \n",
    "        "
   ]
  },
  {
   "cell_type": "code",
   "execution_count": 8,
   "metadata": {},
   "outputs": [
    {
     "name": "stdout",
     "output_type": "stream",
     "text": [
      "congrats you are passed 22.22222222222222\n"
     ]
    }
   ],
   "source": [
    "with open(\"Datafiles/marks.txt\",'r') as f:\n",
    "    data=f.read()\n",
    "    marks=data.split()\n",
    "    pc=0\n",
    "    for mark in marks:\n",
    "        if int(mark)<10:\n",
    "            pc+=1\n",
    "    print(\"congrats you are passed\",pc/len(marks)*100)\n",
    "      "
   ]
  },
  {
   "cell_type": "code",
   "execution_count": null,
   "metadata": {},
   "outputs": [],
   "source": []
  }
 ],
 "metadata": {
  "kernelspec": {
   "display_name": "Python 3",
   "language": "python",
   "name": "python3"
  },
  "language_info": {
   "codemirror_mode": {
    "name": "ipython",
    "version": 3
   },
   "file_extension": ".py",
   "mimetype": "text/x-python",
   "name": "python",
   "nbconvert_exporter": "python",
   "pygments_lexer": "ipython3",
   "version": "3.8.5"
  }
 },
 "nbformat": 4,
 "nbformat_minor": 4
}
